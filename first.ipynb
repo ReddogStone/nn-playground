{
 "cells": [
  {
   "cell_type": "code",
   "execution_count": 46,
   "metadata": {},
   "outputs": [
    {
     "data": {
      "text/plain": [
       "6"
      ]
     },
     "execution_count": 46,
     "metadata": {},
     "output_type": "execute_result"
    }
   ],
   "source": [
    "import os\n",
    "\n",
    "def readWholeFile(filepath):\n",
    "    file = open(filepath, 'r')\n",
    "    if file.mode == 'r': return file.read()\n",
    "    \n",
    "(_, _, filenames) = next(os.walk('jobs'));\n",
    "    \n",
    "texts = [readWholeFile('jobs/' + f) for f in filenames]\n",
    "len(texts)"
   ]
  },
  {
   "cell_type": "code",
   "execution_count": 51,
   "metadata": {},
   "outputs": [
    {
     "data": {
      "text/plain": [
       "{'UNK': 1,\n",
       " 'e': 2,\n",
       " ' ': 3,\n",
       " 'n': 4,\n",
       " 'i': 5,\n",
       " 'r': 6,\n",
       " 't': 7,\n",
       " 's': 8,\n",
       " 'a': 9,\n",
       " 'u': 10,\n",
       " 'd': 11,\n",
       " 'h': 12,\n",
       " 'o': 13,\n",
       " 'l': 14,\n",
       " 'g': 15,\n",
       " 'm': 16,\n",
       " 'c': 17,\n",
       " 'b': 18,\n",
       " 'f': 19,\n",
       " 'k': 20,\n",
       " 'w': 21,\n",
       " 'z': 22,\n",
       " 'p': 23,\n",
       " '.': 24,\n",
       " '\\n': 25,\n",
       " ',': 26,\n",
       " 'ü': 27,\n",
       " 'D': 28,\n",
       " 'P': 29,\n",
       " 'v': 30,\n",
       " 'A': 31,\n",
       " 'T': 32,\n",
       " '-': 33,\n",
       " 'ä': 34,\n",
       " 'M': 35,\n",
       " 'K': 36,\n",
       " 'S': 37,\n",
       " 'W': 38,\n",
       " 'B': 39,\n",
       " 'E': 40,\n",
       " 'I': 41,\n",
       " 'ö': 42,\n",
       " 'F': 43,\n",
       " 'x': 44,\n",
       " 'U': 45,\n",
       " ':': 46,\n",
       " 'V': 47,\n",
       " 'H': 48,\n",
       " 'C': 49,\n",
       " '2': 50,\n",
       " 'G': 51,\n",
       " '–': 52,\n",
       " 'R': 53,\n",
       " '0': 54,\n",
       " '/': 55,\n",
       " '9': 56,\n",
       " 'y': 57,\n",
       " '(': 58,\n",
       " ')': 59,\n",
       " 'O': 60,\n",
       " '6': 61,\n",
       " 'j': 62,\n",
       " '5': 63,\n",
       " 'N': 64,\n",
       " 'Z': 65,\n",
       " '1': 66,\n",
       " '?': 67,\n",
       " 'J': 68,\n",
       " 'L': 69,\n",
       " 'Ü': 70,\n",
       " '&': 71,\n",
       " '3': 72,\n",
       " '8': 73,\n",
       " 'ß': 74,\n",
       " '4': 75,\n",
       " '_': 76,\n",
       " '\\xa0': 77,\n",
       " 'q': 78,\n",
       " ';': 79,\n",
       " '„': 80,\n",
       " '“': 81,\n",
       " '!': 82,\n",
       " 'á': 83}"
      ]
     },
     "execution_count": 51,
     "metadata": {},
     "output_type": "execute_result"
    }
   ],
   "source": [
    "from keras.preprocessing.text import Tokenizer\n",
    "from keras.preprocessing.sequence import pad_sequences\n",
    "\n",
    "tk = Tokenizer(num_words=None, char_level=True, oov_token='UNK', lower=False)\n",
    "tk.fit_on_texts(texts)\n",
    "tk.word_index"
   ]
  },
  {
   "cell_type": "code",
   "execution_count": 62,
   "metadata": {},
   "outputs": [],
   "source": [
    "train_sequences = tk.texts_to_sequences(texts)"
   ]
  },
  {
   "cell_type": "code",
   "execution_count": 80,
   "metadata": {},
   "outputs": [],
   "source": [
    "train_data = pad_sequences(train_sequences, maxlen=5002, padding='post')"
   ]
  },
  {
   "cell_type": "code",
   "execution_count": 81,
   "metadata": {},
   "outputs": [],
   "source": [
    "import numpy as np\n",
    "train_data = np.array(train_data)"
   ]
  },
  {
   "cell_type": "code",
   "execution_count": 82,
   "metadata": {},
   "outputs": [
    {
     "data": {
      "text/plain": [
       "array([[29,  6,  9, ...,  0,  0,  0],\n",
       "       [29,  6,  9, ...,  0,  0,  0],\n",
       "       [29,  6,  9, ...,  0,  0,  0],\n",
       "       [29,  6,  9, ...,  0,  0,  0],\n",
       "       [29,  6,  9, ..., 56, 56, 63],\n",
       "       [29,  6,  9, ...,  0,  0,  0]], dtype=int32)"
      ]
     },
     "execution_count": 82,
     "metadata": {},
     "output_type": "execute_result"
    }
   ],
   "source": [
    "train_data"
   ]
  },
  {
   "cell_type": "code",
   "execution_count": null,
   "metadata": {},
   "outputs": [],
   "source": []
  }
 ],
 "metadata": {
  "kernelspec": {
   "display_name": "Python 3",
   "language": "python",
   "name": "python3"
  },
  "language_info": {
   "codemirror_mode": {
    "name": "ipython",
    "version": 3
   },
   "file_extension": ".py",
   "mimetype": "text/x-python",
   "name": "python",
   "nbconvert_exporter": "python",
   "pygments_lexer": "ipython3",
   "version": "3.7.3"
  }
 },
 "nbformat": 4,
 "nbformat_minor": 2
}
